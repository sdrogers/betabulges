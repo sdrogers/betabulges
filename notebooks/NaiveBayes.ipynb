{
 "cells": [
  {
   "cell_type": "markdown",
   "metadata": {},
   "source": [
    "## Beta bulge classification\n",
    "\n",
    "- This notebook performs multi-class classification between the three classes in the data\n",
    "- It uses a multinomial naive bayes classifier with some smoothing"
   ]
  },
  {
   "cell_type": "markdown",
   "metadata": {},
   "source": [
    "Step 1: load the data"
   ]
  },
  {
   "cell_type": "code",
   "execution_count": 7,
   "metadata": {},
   "outputs": [],
   "source": [
    "import csv"
   ]
  },
  {
   "cell_type": "code",
   "execution_count": 8,
   "metadata": {},
   "outputs": [],
   "source": [
    "input_data = '../data/OneSheet.csv'\n",
    "data = []\n",
    "with open(input_data,'r') as f:\n",
    "    reader = csv.reader(f)\n",
    "    heads = next(reader)\n",
    "    for line in reader:\n",
    "        data.append(line)"
   ]
  },
  {
   "cell_type": "markdown",
   "metadata": {},
   "source": [
    "Class is final column\n",
    "\n",
    "- 0 = original\n",
    "- 1 = a\n",
    "- 2 = b"
   ]
  },
  {
   "cell_type": "markdown",
   "metadata": {},
   "source": [
    "Step 2: randomly permute the data for cross-validation\n",
    "\n",
    "- Using $K=10$ fold cross-validation"
   ]
  },
  {
   "cell_type": "code",
   "execution_count": 9,
   "metadata": {},
   "outputs": [],
   "source": [
    "import numpy as np\n",
    "data = np.random.permutation(data)\n",
    "N = len(data)\n",
    "fold_idxs = []\n",
    "K = 10\n",
    "fold_size = int(np.floor(N/K))\n",
    "idx = list(range(N))\n",
    "for k in range(K):\n",
    "    this_fold = idx[k*fold_size:k*fold_size+fold_size]\n",
    "    fold_idxs.append(this_fold)\n",
    "fold_idxs[-1] += idx[K*fold_size:]"
   ]
  },
  {
   "cell_type": "markdown",
   "metadata": {},
   "source": [
    "Create an index for the unique AAs"
   ]
  },
  {
   "cell_type": "code",
   "execution_count": 10,
   "metadata": {},
   "outputs": [
    {
     "name": "stdout",
     "output_type": "stream",
     "text": [
      "{'P': 0, 'V': 1, 'I': 2, 'S': 3, 'F': 4, 'A': 5, 'W': 6, 'K': 7, 'L': 8, 'D': 9, 'R': 10, 'G': 11, 'E': 12, 'N': 13, 'T': 14, 'Y': 15, 'H': 16, 'C': 17, 'Q': 18, 'M': 19}\n"
     ]
    }
   ],
   "source": [
    "AA_idx = {}\n",
    "aa_pos = 0\n",
    "for d in data:\n",
    "    for aa in d[:4]:\n",
    "        if not aa in AA_idx:\n",
    "            AA_idx[aa] = aa_pos\n",
    "            aa_pos += 1\n",
    "print(AA_idx)"
   ]
  },
  {
   "cell_type": "code",
   "execution_count": 70,
   "metadata": {},
   "outputs": [],
   "source": [
    "classes = [0,1,2]\n",
    "beta = 1 # smoothing parameter\n",
    "pred_probs = []\n",
    "pred_labels = []\n",
    "\n",
    "\n",
    "\n",
    "columns_to_use = [0,1,2,3] # these are the AA positions to use in the model change the list to remove some.\n",
    "\n",
    "\n",
    "\n",
    "# loop over cross-validation folds\n",
    "for k in range(K):\n",
    "    test_idx = fold_idxs[k]\n",
    "    train_X = []\n",
    "    test_X = []\n",
    "    train_t = []\n",
    "    test_t = []\n",
    "    for n in range(N):\n",
    "        if not n in test_idx:\n",
    "            train_X.append(data[n][columns_to_use]) # four amino acid positions\n",
    "            train_t.append(int(data[n][4])) # class\n",
    "        else:\n",
    "            test_X.append(data[n][columns_to_use])\n",
    "            test_t.append(int(data[n][4]))\n",
    "            \n",
    "    class_counts = {} # will hold the number of times we see each AA in each position in each class\n",
    "    for class_no in classes:\n",
    "        class_counts[class_no] = [[beta for aa in AA_idx] for i in range(len(columns_to_use))] # initialise with smoothing par\n",
    "    \n",
    "    # look over the training data, counting how many times we see each AA in each position\n",
    "    for i,d in enumerate(train_X):\n",
    "        class_no = train_t[i]\n",
    "        for j,aa in enumerate(d):\n",
    "            pos = AA_idx[aa]\n",
    "            class_counts[class_no][j][pos] += 1\n",
    "    \n",
    "    # convery to probabilities\n",
    "    class_probs = {}\n",
    "    for class_no in classes:\n",
    "        class_probs[class_no] = np.array(class_counts[class_no])\n",
    "        class_probs[class_no] = class_probs[class_no]/class_probs[class_no].sum(axis=1)[:,None]\n",
    "\n",
    "    # prior is proportional to the number of things in each class in the training set\n",
    "    prior_counts = {}\n",
    "    for class_no in classes:\n",
    "        prior_counts[class_no] = len(list(filter(lambda x: x == class_no,train_t))) / len(train_t)\n",
    "    \n",
    "    for i,d in enumerate(test_X):\n",
    "        probs = []\n",
    "        for class_no in classes:\n",
    "            class_prob = 1\n",
    "            for j in range(len(columns_to_use)):\n",
    "                aa = d[j]\n",
    "                aa_pos = AA_idx[aa]\n",
    "                class_prob *= class_probs[class_no][j][aa_pos]\n",
    "            probs.append(class_prob*prior_counts[class_no])\n",
    "        probs = np.array(probs)\n",
    "        probs /= probs.sum()\n",
    "        pred_probs.append(probs)\n",
    "        pred_labels.append(test_t[i])\n",
    "    "
   ]
  },
  {
   "cell_type": "markdown",
   "metadata": {},
   "source": [
    "Compute performance via a confusion matrix. "
   ]
  },
  {
   "cell_type": "code",
   "execution_count": 71,
   "metadata": {},
   "outputs": [
    {
     "name": "stdout",
     "output_type": "stream",
     "text": [
      "Accuracy as a %age = 87.62\n",
      "\n",
      "Confusion matrix: columns correspond to true classes, rows to predicted\n",
      "\t 0\t1\t2\n",
      "-------------------------------\n",
      "0 \t 420\t18\t20\n",
      "1 \t 17\t295\t38\n",
      "2 \t 9\t11\t85\n"
     ]
    }
   ],
   "source": [
    "correct = 0\n",
    "raw_pred = []\n",
    "for i,probs in enumerate(pred_probs):\n",
    "    raw_pred.append(np.argmax(probs))\n",
    "    if raw_pred[i] == pred_labels[i]:\n",
    "        correct += 1\n",
    "n_pred = len(raw_pred)\n",
    "print(\"Accuracy as a %age = {:.2f}\".format(100*correct/n_pred))\n",
    "confusion = np.zeros((3,3))\n",
    "zz = list(zip(raw_pred,pred_labels))\n",
    "for class_no in classes:\n",
    "    for class_no2 in classes:\n",
    "        confusion[class_no,class_no2] = len(list(filter(lambda x: x[0] == class_no and x[1] == class_no2,zz)))\n",
    "print()\n",
    "print(\"Confusion matrix: columns correspond to true classes, rows to predicted\")\n",
    "print(\"\\t\",\"\\t\".join([str(c) for c in classes]))\n",
    "print(\"-------------------------------\")\n",
    "for i,row in enumerate(confusion):\n",
    "    print(classes[i],\"\\t\",\"\\t\".join([\"{:n}\".format(c) for c in row]))"
   ]
  },
  {
   "cell_type": "markdown",
   "metadata": {},
   "source": [
    "## Visualise the class probabilities"
   ]
  },
  {
   "cell_type": "code",
   "execution_count": 72,
   "metadata": {},
   "outputs": [
    {
     "data": {
      "image/png": "[encoded data removed]",
      "text/plain": [
       "<Figure size 720x288 with 2 Axes>"
      ]
     },
     "metadata": {
      "needs_background": "light"
     },
     "output_type": "display_data"
    },
    {
     "data": {
      "image/png": "[encoded data removed]",
      "text/plain": [
       "<Figure size 720x288 with 2 Axes>"
      ]
     },
     "metadata": {
      "needs_background": "light"
     },
     "output_type": "display_data"
    },
    {
     "data": {
      "image/png": "[encoded data removed]",
      "text/plain": [
       "<Figure size 720x288 with 2 Axes>"
      ]
     },
     "metadata": {
      "needs_background": "light"
     },
     "output_type": "display_data"
    }
   ],
   "source": [
    "import pylab as plt\n",
    "%matplotlib inline\n",
    "AA_name_pos = list(AA_idx.items())\n",
    "AA_name_pos.sort(key = lambda x: x[1])\n",
    "sorted_AA_names,_ = zip(*AA_name_pos)\n",
    "for c in classes:\n",
    "    plt.figure(figsize=(10,4))\n",
    "    plt.imshow(class_probs[c],aspect='auto')\n",
    "    plt.xticks(range(len(sorted_AA_names)),sorted_AA_names)\n",
    "    plt.yticks(columns_to_use,columns_to_use)\n",
    "    plt.ylabel('Position')\n",
    "    plt.xlabel('AA')\n",
    "    plt.title(\"Probabilities for class {}\".format(c))\n",
    "    plt.colorbar()"
   ]
  },
  {
   "cell_type": "code",
   "execution_count": null,
   "metadata": {},
   "outputs": [],
   "source": []
  }
 ],
 "metadata": {
  "kernelspec": {
   "display_name": "Python 3",
   "language": "python",
   "name": "python3"
  },
  "language_info": {
   "codemirror_mode": {
    "name": "ipython",
    "version": 3
   },
   "file_extension": ".py",
   "mimetype": "text/x-python",
   "name": "python",
   "nbconvert_exporter": "python",
   "pygments_lexer": "ipython3",
   "version": "3.7.5"
  }
 },
 "nbformat": 4,
 "nbformat_minor": 2
}
