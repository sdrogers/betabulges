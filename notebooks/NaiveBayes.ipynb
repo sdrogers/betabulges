{
 "cells": [
  {
   "cell_type": "code",
   "execution_count": 1,
   "metadata": {},
   "outputs": [],
   "source": [
    "import csv"
   ]
  },
  {
   "cell_type": "code",
   "execution_count": 3,
   "metadata": {},
   "outputs": [],
   "source": [
    "input_data = '../data/OneSheet.csv'\n",
    "data = []\n",
    "with open(input_data,'r') as f:\n",
    "    reader = csv.reader(f)\n",
    "    heads = next(reader)\n",
    "    for line in reader:\n",
    "        data.append(line)"
   ]
  },
  {
   "cell_type": "markdown",
   "metadata": {},
   "source": [
    "Class is final column\n",
    "\n",
    "- 0 = original\n",
    "- 1 = a\n",
    "- 2 = b"
   ]
  },
  {
   "cell_type": "code",
   "execution_count": 18,
   "metadata": {},
   "outputs": [
    {
     "name": "stdout",
     "output_type": "stream",
     "text": [
      "913\n",
      "[91, 91, 91, 91, 91, 91, 91, 91, 91, 94]\n"
     ]
    }
   ],
   "source": [
    "import numpy as np\n",
    "data = np.random.permutation(data)\n",
    "N = len(data)\n",
    "print(N)\n",
    "fold_idxs = []\n",
    "K = 10\n",
    "fold_size = int(np.floor(N/K))\n",
    "idx = list(range(N))\n",
    "for k in range(K):\n",
    "    this_fold = idx[k*fold_size:k*fold_size+fold_size]\n",
    "    fold_idxs.append(this_fold)\n",
    "fold_idxs[-1] += idx[K*fold_size:]"
   ]
  },
  {
   "cell_type": "markdown",
   "metadata": {},
   "source": [
    "Find unique AAs"
   ]
  },
  {
   "cell_type": "code",
   "execution_count": 24,
   "metadata": {},
   "outputs": [
    {
     "name": "stdout",
     "output_type": "stream",
     "text": [
      "{'V': 0, 'G': 1, 'L': 2, 'I': 3, 'K': 4, 'T': 5, 'N': 6, 'E': 7, 'D': 8, 'Y': 9, 'H': 10, 'Q': 11, 'F': 12, 'C': 13, 'S': 14, 'A': 15, 'W': 16, 'M': 17, 'R': 18, 'P': 19}\n"
     ]
    }
   ],
   "source": [
    "AA_idx = {}\n",
    "aa_pos = 0\n",
    "for d in data:\n",
    "    for aa in d[:4]:\n",
    "        if not aa in AA_idx:\n",
    "            AA_idx[aa] = aa_pos\n",
    "            aa_pos += 1\n",
    "print(AA_idx)"
   ]
  },
  {
   "cell_type": "code",
   "execution_count": 48,
   "metadata": {},
   "outputs": [],
   "source": [
    "classes = [0,1,2]\n",
    "beta = 1 # smoothing parameter\n",
    "pred_probs = []\n",
    "pred_labels = []\n",
    "for k in range(K):\n",
    "    test_idx = fold_idxs[k]\n",
    "    train_X = []\n",
    "    test_X = []\n",
    "    train_t = []\n",
    "    test_t = []\n",
    "    for n in range(N):\n",
    "        if not n in test_idx:\n",
    "            train_X.append(data[n][:4])\n",
    "            train_t.append(int(data[n][4]))\n",
    "        else:\n",
    "            test_X.append(data[n][:4])\n",
    "            test_t.append(int(data[n][4]))\n",
    "    class_counts = {}\n",
    "    for class_no in classes:\n",
    "        class_counts[class_no] = [[beta for aa in AA_idx] for i in range(4)]\n",
    "    for i,d in enumerate(train_X):\n",
    "        class_no = train_t[i]\n",
    "        for j,aa in enumerate(d):\n",
    "            pos = AA_idx[aa]\n",
    "            class_counts[class_no][j][pos] += 1\n",
    "    class_probs = {}\n",
    "    for class_no in classes:\n",
    "        class_probs[class_no] = np.array(class_counts[class_no])\n",
    "        class_probs[class_no] = class_probs[class_no]/class_probs[class_no].sum(axis=1)[:,None]\n",
    "\n",
    "    prior_counts = {}\n",
    "    for class_no in classes:\n",
    "        prior_counts[class_no] = len(list(filter(lambda x: x == class_no,train_t))) / len(train_t)\n",
    "    \n",
    "    for i,d in enumerate(test_X):\n",
    "        probs = []\n",
    "        for class_no in classes:\n",
    "            class_prob = 1\n",
    "            for j in range(4):\n",
    "                aa = d[j]\n",
    "                aa_pos = AA_idx[aa]\n",
    "                class_prob *= class_probs[class_no][j][aa_pos]\n",
    "            probs.append(class_prob*prior_counts[class_no])\n",
    "        probs = np.array(probs)\n",
    "        probs /= probs.sum()\n",
    "        pred_probs.append(probs)\n",
    "        pred_labels.append(test_t[i])\n",
    "    "
   ]
  },
  {
   "cell_type": "code",
   "execution_count": 60,
   "metadata": {},
   "outputs": [
    {
     "name": "stdout",
     "output_type": "stream",
     "text": [
      "0.8795180722891566\n",
      "[[419.  18.  20.]\n",
      " [ 18. 296.  35.]\n",
      " [  9.  10.  88.]]\n"
     ]
    }
   ],
   "source": [
    "correct = 0\n",
    "raw_pred = []\n",
    "for i,probs in enumerate(pred_probs):\n",
    "    raw_pred.append(np.argmax(probs))\n",
    "    if raw_pred[i] == pred_labels[i]:\n",
    "        correct += 1\n",
    "n_pred = len(raw_pred)\n",
    "print(correct/n_pred)\n",
    "confusion = np.zeros((3,3))\n",
    "zz = list(zip(raw_pred,pred_labels))\n",
    "for class_no in classes:\n",
    "    for class_no2 in classes:\n",
    "        confusion[class_no,class_no2] = len(list(filter(lambda x: x[0] == class_no and x[1] == class_no2,zz)))\n",
    "print(confusion)"
   ]
  },
  {
   "cell_type": "code",
   "execution_count": null,
   "metadata": {},
   "outputs": [],
   "source": []
  }
 ],
 "metadata": {
  "kernelspec": {
   "display_name": "Python 3",
   "language": "python",
   "name": "python3"
  },
  "language_info": {
   "codemirror_mode": {
    "name": "ipython",
    "version": 3
   },
   "file_extension": ".py",
   "mimetype": "text/x-python",
   "name": "python",
   "nbconvert_exporter": "python",
   "pygments_lexer": "ipython3",
   "version": "3.7.0"
  }
 },
 "nbformat": 4,
 "nbformat_minor": 2
}
